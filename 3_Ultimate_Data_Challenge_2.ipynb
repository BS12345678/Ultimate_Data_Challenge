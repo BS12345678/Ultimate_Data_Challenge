{
 "cells": [
  {
   "cell_type": "markdown",
   "metadata": {},
   "source": [
    "**Part 3 ‐ Predictive modeling**"
   ]
  },
  {
   "cell_type": "code",
   "execution_count": 47,
   "metadata": {},
   "outputs": [],
   "source": [
    "import json\n",
    "import pandas as pd\n",
    "import datetime as datetime\n",
    "import seaborn as sns\n",
    "import matplotlib.pyplot as plt\n",
    "import numpy as np\n",
    "from sklearn.model_selection import train_test_split, cross_validate, GridSearchCV, learning_curve\n",
    "from sklearn.preprocessing import StandardScaler\n",
    "from sklearn.linear_model import LogisticRegression\n",
    "from sklearn.metrics import accuracy_score, classification_report, confusion_matrix, roc_curve, auc, precision_recall_curve"
   ]
  },
  {
   "cell_type": "code",
   "execution_count": 2,
   "metadata": {},
   "outputs": [],
   "source": [
    "ult = pd.read_json('...ultimate_data_challenge.json')"
   ]
  },
  {
   "cell_type": "code",
   "execution_count": 3,
   "metadata": {},
   "outputs": [
    {
     "data": {
      "text/html": [
       "<div>\n",
       "<style scoped>\n",
       "    .dataframe tbody tr th:only-of-type {\n",
       "        vertical-align: middle;\n",
       "    }\n",
       "\n",
       "    .dataframe tbody tr th {\n",
       "        vertical-align: top;\n",
       "    }\n",
       "\n",
       "    .dataframe thead th {\n",
       "        text-align: right;\n",
       "    }\n",
       "</style>\n",
       "<table border=\"1\" class=\"dataframe\">\n",
       "  <thead>\n",
       "    <tr style=\"text-align: right;\">\n",
       "      <th></th>\n",
       "      <th>city</th>\n",
       "      <th>trips_in_first_30_days</th>\n",
       "      <th>signup_date</th>\n",
       "      <th>avg_rating_of_driver</th>\n",
       "      <th>avg_surge</th>\n",
       "      <th>last_trip_date</th>\n",
       "      <th>phone</th>\n",
       "      <th>surge_pct</th>\n",
       "      <th>ultimate_black_user</th>\n",
       "      <th>weekday_pct</th>\n",
       "      <th>avg_dist</th>\n",
       "      <th>avg_rating_by_driver</th>\n",
       "    </tr>\n",
       "  </thead>\n",
       "  <tbody>\n",
       "    <tr>\n",
       "      <th>0</th>\n",
       "      <td>King's Landing</td>\n",
       "      <td>4</td>\n",
       "      <td>2014-01-25</td>\n",
       "      <td>4.7</td>\n",
       "      <td>1.10</td>\n",
       "      <td>2014-06-17</td>\n",
       "      <td>iPhone</td>\n",
       "      <td>15.4</td>\n",
       "      <td>True</td>\n",
       "      <td>46.2</td>\n",
       "      <td>3.67</td>\n",
       "      <td>5.0</td>\n",
       "    </tr>\n",
       "    <tr>\n",
       "      <th>1</th>\n",
       "      <td>Astapor</td>\n",
       "      <td>0</td>\n",
       "      <td>2014-01-29</td>\n",
       "      <td>5.0</td>\n",
       "      <td>1.00</td>\n",
       "      <td>2014-05-05</td>\n",
       "      <td>Android</td>\n",
       "      <td>0.0</td>\n",
       "      <td>False</td>\n",
       "      <td>50.0</td>\n",
       "      <td>8.26</td>\n",
       "      <td>5.0</td>\n",
       "    </tr>\n",
       "    <tr>\n",
       "      <th>2</th>\n",
       "      <td>Astapor</td>\n",
       "      <td>3</td>\n",
       "      <td>2014-01-06</td>\n",
       "      <td>4.3</td>\n",
       "      <td>1.00</td>\n",
       "      <td>2014-01-07</td>\n",
       "      <td>iPhone</td>\n",
       "      <td>0.0</td>\n",
       "      <td>False</td>\n",
       "      <td>100.0</td>\n",
       "      <td>0.77</td>\n",
       "      <td>5.0</td>\n",
       "    </tr>\n",
       "    <tr>\n",
       "      <th>3</th>\n",
       "      <td>King's Landing</td>\n",
       "      <td>9</td>\n",
       "      <td>2014-01-10</td>\n",
       "      <td>4.6</td>\n",
       "      <td>1.14</td>\n",
       "      <td>2014-06-29</td>\n",
       "      <td>iPhone</td>\n",
       "      <td>20.0</td>\n",
       "      <td>True</td>\n",
       "      <td>80.0</td>\n",
       "      <td>2.36</td>\n",
       "      <td>4.9</td>\n",
       "    </tr>\n",
       "    <tr>\n",
       "      <th>4</th>\n",
       "      <td>Winterfell</td>\n",
       "      <td>14</td>\n",
       "      <td>2014-01-27</td>\n",
       "      <td>4.4</td>\n",
       "      <td>1.19</td>\n",
       "      <td>2014-03-15</td>\n",
       "      <td>Android</td>\n",
       "      <td>11.8</td>\n",
       "      <td>False</td>\n",
       "      <td>82.4</td>\n",
       "      <td>3.13</td>\n",
       "      <td>4.9</td>\n",
       "    </tr>\n",
       "  </tbody>\n",
       "</table>\n",
       "</div>"
      ],
      "text/plain": [
       "             city  trips_in_first_30_days signup_date  avg_rating_of_driver  \\\n",
       "0  King's Landing                       4  2014-01-25                   4.7   \n",
       "1         Astapor                       0  2014-01-29                   5.0   \n",
       "2         Astapor                       3  2014-01-06                   4.3   \n",
       "3  King's Landing                       9  2014-01-10                   4.6   \n",
       "4      Winterfell                      14  2014-01-27                   4.4   \n",
       "\n",
       "   avg_surge last_trip_date    phone  surge_pct  ultimate_black_user  \\\n",
       "0       1.10     2014-06-17   iPhone       15.4                 True   \n",
       "1       1.00     2014-05-05  Android        0.0                False   \n",
       "2       1.00     2014-01-07   iPhone        0.0                False   \n",
       "3       1.14     2014-06-29   iPhone       20.0                 True   \n",
       "4       1.19     2014-03-15  Android       11.8                False   \n",
       "\n",
       "   weekday_pct  avg_dist  avg_rating_by_driver  \n",
       "0         46.2      3.67                   5.0  \n",
       "1         50.0      8.26                   5.0  \n",
       "2        100.0      0.77                   5.0  \n",
       "3         80.0      2.36                   4.9  \n",
       "4         82.4      3.13                   4.9  "
      ]
     },
     "execution_count": 3,
     "metadata": {},
     "output_type": "execute_result"
    }
   ],
   "source": [
    "ult.head()"
   ]
  },
  {
   "cell_type": "code",
   "execution_count": 4,
   "metadata": {},
   "outputs": [
    {
     "name": "stdout",
     "output_type": "stream",
     "text": [
      "<class 'pandas.core.frame.DataFrame'>\n",
      "RangeIndex: 50000 entries, 0 to 49999\n",
      "Data columns (total 12 columns):\n",
      " #   Column                  Non-Null Count  Dtype  \n",
      "---  ------                  --------------  -----  \n",
      " 0   city                    50000 non-null  object \n",
      " 1   trips_in_first_30_days  50000 non-null  int64  \n",
      " 2   signup_date             50000 non-null  object \n",
      " 3   avg_rating_of_driver    41878 non-null  float64\n",
      " 4   avg_surge               50000 non-null  float64\n",
      " 5   last_trip_date          50000 non-null  object \n",
      " 6   phone                   49604 non-null  object \n",
      " 7   surge_pct               50000 non-null  float64\n",
      " 8   ultimate_black_user     50000 non-null  bool   \n",
      " 9   weekday_pct             50000 non-null  float64\n",
      " 10  avg_dist                50000 non-null  float64\n",
      " 11  avg_rating_by_driver    49799 non-null  float64\n",
      "dtypes: bool(1), float64(6), int64(1), object(4)\n",
      "memory usage: 4.2+ MB\n"
     ]
    }
   ],
   "source": [
    "ult.info()"
   ]
  },
  {
   "cell_type": "markdown",
   "metadata": {},
   "source": [
    "**Data Cleaning Procedures**"
   ]
  },
  {
   "cell_type": "code",
   "execution_count": 5,
   "metadata": {},
   "outputs": [
    {
     "name": "stdout",
     "output_type": "stream",
     "text": [
      "count    41878.000000\n",
      "mean         4.601559\n",
      "std          0.617338\n",
      "min          1.000000\n",
      "25%          4.300000\n",
      "50%          4.900000\n",
      "75%          5.000000\n",
      "max          5.000000\n",
      "Name: avg_rating_of_driver, dtype: float64\n"
     ]
    },
    {
     "data": {
      "image/png": "[encoded data removed]",
      "text/plain": [
       "<Figure size 432x288 with 1 Axes>"
      ]
     },
     "metadata": {
      "needs_background": "light"
     },
     "output_type": "display_data"
    }
   ],
   "source": [
    "#Imputing missing data\n",
    "#finding how the distribution looks like for features with missing values so that we can decide on how to impute them\n",
    "# since it has a skewed distribution, it's better to impute with median than with mean values\n",
    "ult['avg_rating_of_driver'].hist()\n",
    "print(ult['avg_rating_of_driver'].describe())"
   ]
  },
  {
   "cell_type": "code",
   "execution_count": 6,
   "metadata": {},
   "outputs": [
    {
     "name": "stdout",
     "output_type": "stream",
     "text": [
      "count    49799.000000\n",
      "mean         4.778158\n",
      "std          0.446652\n",
      "min          1.000000\n",
      "25%          4.700000\n",
      "50%          5.000000\n",
      "75%          5.000000\n",
      "max          5.000000\n",
      "Name: avg_rating_by_driver, dtype: float64\n"
     ]
    },
    {
     "data": {
      "image/png": "[encoded data removed]",
      "text/plain": [
       "<Figure size 432x288 with 1 Axes>"
      ]
     },
     "metadata": {
      "needs_background": "light"
     },
     "output_type": "display_data"
    }
   ],
   "source": [
    "ult['avg_rating_by_driver'].hist()\n",
    "print(ult['avg_rating_by_driver'].describe())"
   ]
  },
  {
   "cell_type": "code",
   "execution_count": 7,
   "metadata": {},
   "outputs": [],
   "source": [
    "# Imputing\n",
    "ult['avg_rating_by_driver']= ult['avg_rating_by_driver'].fillna(value=ult['avg_rating_by_driver'].median())\n",
    "ult['avg_rating_of_driver']= ult['avg_rating_of_driver'].fillna(value=ult['avg_rating_of_driver'].median())"
   ]
  },
  {
   "cell_type": "code",
   "execution_count": 8,
   "metadata": {},
   "outputs": [
    {
     "data": {
      "text/plain": [
       "iPhone     34582\n",
       "Android    15022\n",
       "Name: phone, dtype: int64"
      ]
     },
     "execution_count": 8,
     "metadata": {},
     "output_type": "execute_result"
    }
   ],
   "source": [
    "ult['phone'].value_counts()"
   ]
  },
  {
   "cell_type": "code",
   "execution_count": 9,
   "metadata": {},
   "outputs": [],
   "source": [
    "#Almost 70% of users have iPhone, so the missing values could be imputed with iPhone\n",
    "ult['phone']= ult['phone'].fillna(value='iPhone')"
   ]
  },
  {
   "cell_type": "code",
   "execution_count": 10,
   "metadata": {},
   "outputs": [
    {
     "name": "stdout",
     "output_type": "stream",
     "text": [
      "<class 'pandas.core.frame.DataFrame'>\n",
      "RangeIndex: 50000 entries, 0 to 49999\n",
      "Data columns (total 12 columns):\n",
      " #   Column                  Non-Null Count  Dtype  \n",
      "---  ------                  --------------  -----  \n",
      " 0   city                    50000 non-null  object \n",
      " 1   trips_in_first_30_days  50000 non-null  int64  \n",
      " 2   signup_date             50000 non-null  object \n",
      " 3   avg_rating_of_driver    50000 non-null  float64\n",
      " 4   avg_surge               50000 non-null  float64\n",
      " 5   last_trip_date          50000 non-null  object \n",
      " 6   phone                   50000 non-null  object \n",
      " 7   surge_pct               50000 non-null  float64\n",
      " 8   ultimate_black_user     50000 non-null  bool   \n",
      " 9   weekday_pct             50000 non-null  float64\n",
      " 10  avg_dist                50000 non-null  float64\n",
      " 11  avg_rating_by_driver    50000 non-null  float64\n",
      "dtypes: bool(1), float64(6), int64(1), object(4)\n",
      "memory usage: 4.2+ MB\n"
     ]
    }
   ],
   "source": [
    "ult.info()"
   ]
  },
  {
   "cell_type": "markdown",
   "metadata": {},
   "source": [
    "**Fraction of Users that were Retained**"
   ]
  },
  {
   "cell_type": "markdown",
   "metadata": {},
   "source": [
    "Since the date on which the data was pulled is not given, I assume the latest date of 'last_trip_date' as the date the data was pulled and if any user made a trip within the preceding 30 days then that user will be assumed as 'retained user'"
   ]
  },
  {
   "cell_type": "code",
   "execution_count": 11,
   "metadata": {},
   "outputs": [
    {
     "data": {
      "text/plain": [
       "Timestamp('2014-07-01 00:00:00')"
      ]
     },
     "execution_count": 11,
     "metadata": {},
     "output_type": "execute_result"
    }
   ],
   "source": [
    "# changing dates to datetime object\n",
    "ult['signup_date'] = pd.to_datetime(ult['signup_date'])\n",
    "ult['last_trip_date'] = pd.to_datetime(ult['last_trip_date'])\n",
    "\n",
    "ult['last_trip_date'].dtype\n",
    "\n",
    "ult['last_trip_date'].max()"
   ]
  },
  {
   "cell_type": "code",
   "execution_count": 12,
   "metadata": {},
   "outputs": [],
   "source": [
    "#Finding fraction of retained users\n",
    "ret_users = []\n",
    "for i in ult['last_trip_date']:\n",
    "    if str(i) > '2014-06-01 00:00:00':\n",
    "        ret_users.append(1)\n",
    "    else:\n",
    "        ret_users.append(0)"
   ]
  },
  {
   "cell_type": "code",
   "execution_count": 13,
   "metadata": {},
   "outputs": [],
   "source": [
    "ult['ret_users'] = ret_users"
   ]
  },
  {
   "cell_type": "code",
   "execution_count": 14,
   "metadata": {},
   "outputs": [
    {
     "data": {
      "text/plain": [
       "0    31690\n",
       "1    18310\n",
       "Name: ret_users, dtype: int64"
      ]
     },
     "execution_count": 14,
     "metadata": {},
     "output_type": "execute_result"
    }
   ],
   "source": [
    "ult['ret_users'].value_counts()"
   ]
  },
  {
   "cell_type": "code",
   "execution_count": 15,
   "metadata": {},
   "outputs": [
    {
     "name": "stdout",
     "output_type": "stream",
     "text": [
      "retained_user % is 36.62\n"
     ]
    }
   ],
   "source": [
    "print('retained_user % is {0:.2f}'.format(ult['ret_users'].value_counts()[1]/(ult['ret_users'].value_counts()[0] + ult['ret_users'].value_counts()[1])*100))"
   ]
  },
  {
   "cell_type": "markdown",
   "metadata": {},
   "source": [
    "**Building Predictive Model**"
   ]
  },
  {
   "cell_type": "markdown",
   "metadata": {},
   "source": [
    "**Assumptions regarding 6 months cohorts**"
   ]
  },
  {
   "cell_type": "markdown",
   "metadata": {},
   "source": [
    "One of the assumption taken here is that if the users have signed up in Jan and if their last trip is in June, they are active for 6 months; day of the month was not taken into considertation, for instance, if a user signed up on Jan.31st and had the last trip on June 1st, it will still be counted as 6 months active. dt.month = 6, means it's June.\n"
   ]
  },
  {
   "cell_type": "code",
   "execution_count": 16,
   "metadata": {},
   "outputs": [],
   "source": [
    "ult['last_trip_month'] = ult['last_trip_date'].dt.month"
   ]
  },
  {
   "cell_type": "code",
   "execution_count": 17,
   "metadata": {},
   "outputs": [],
   "source": [
    "ult.loc[(ult['last_trip_month'] >= 6), 'retained_user'] = 1\n",
    "ult.loc[(ult['last_trip_month'] < 6), 'retained_user'] = 0"
   ]
  },
  {
   "cell_type": "code",
   "execution_count": 18,
   "metadata": {},
   "outputs": [
    {
     "data": {
      "text/plain": [
       "0.0    31196\n",
       "1.0    18804\n",
       "Name: retained_user, dtype: int64"
      ]
     },
     "execution_count": 18,
     "metadata": {},
     "output_type": "execute_result"
    }
   ],
   "source": [
    "ult['retained_user'].value_counts()"
   ]
  },
  {
   "cell_type": "code",
   "execution_count": 19,
   "metadata": {},
   "outputs": [
    {
     "name": "stdout",
     "output_type": "stream",
     "text": [
      "retained user 37.61\n"
     ]
    }
   ],
   "source": [
    "#% of retained users according to this assumption\n",
    "print('retained user {0:.2f}'.format(ult['retained_user'].value_counts()[1]/((ult['retained_user'].value_counts()[1])+ult['retained_user'].value_counts()[0])*100))"
   ]
  },
  {
   "cell_type": "markdown",
   "metadata": {},
   "source": [
    "**2. Predicting if the customer will be retained for 6 months or not**"
   ]
  },
  {
   "cell_type": "markdown",
   "metadata": {},
   "source": [
    "**Exploratory Analysis on Features**\n",
    "\n",
    "Categorical Features"
   ]
  },
  {
   "cell_type": "code",
   "execution_count": 20,
   "metadata": {},
   "outputs": [
    {
     "data": {
      "text/plain": [
       "Winterfell        23336\n",
       "Astapor           16534\n",
       "King's Landing    10130\n",
       "Name: city, dtype: int64"
      ]
     },
     "execution_count": 20,
     "metadata": {},
     "output_type": "execute_result"
    }
   ],
   "source": [
    "ult['city'].value_counts()"
   ]
  },
  {
   "cell_type": "code",
   "execution_count": 21,
   "metadata": {},
   "outputs": [
    {
     "data": {
      "image/png": "[encoded data removed]",
      "text/plain": [
       "<Figure size 432x288 with 1 Axes>"
      ]
     },
     "metadata": {
      "needs_background": "light"
     },
     "output_type": "display_data"
    }
   ],
   "source": [
    "sns.countplot(x='city', hue='retained_user', data=ult)\n",
    "plt.show()"
   ]
  },
  {
   "cell_type": "markdown",
   "metadata": {},
   "source": [
    "from king's landing the retained users are higher than that of non-retained. In winterfell the % of retained_users are higher than that of Astapor city."
   ]
  },
  {
   "cell_type": "code",
   "execution_count": 64,
   "metadata": {},
   "outputs": [
    {
     "name": "stdout",
     "output_type": "stream",
     "text": [
      "False    31146\n",
      "True     18854\n",
      "Name: ultimate_black_user, dtype: int64\n"
     ]
    },
    {
     "data": {
      "image/png": "[encoded data removed]",
      "text/plain": [
       "<Figure size 432x288 with 1 Axes>"
      ]
     },
     "metadata": {
      "needs_background": "light"
     },
     "output_type": "display_data"
    }
   ],
   "source": [
    "# Ultimate black user\n",
    "print(ult['ultimate_black_user'].value_counts())\n",
    "sns.countplot(x='ultimate_black_user', hue='retained_user', data=ult)\n",
    "plt.show()"
   ]
  },
  {
   "cell_type": "code",
   "execution_count": 94,
   "metadata": {},
   "outputs": [
    {
     "name": "stdout",
     "output_type": "stream",
     "text": [
      "iPhone     34978\n",
      "Android    15022\n",
      "Name: phone, dtype: int64\n"
     ]
    },
    {
     "data": {
      "image/png": "[encoded data removed]",
      "text/plain": [
       "<Figure size 432x288 with 1 Axes>"
      ]
     },
     "metadata": {
      "needs_background": "light"
     },
     "output_type": "display_data"
    }
   ],
   "source": [
    "# Phone\n",
    "print(ult['phone'].value_counts())\n",
    "sns.countplot(x='phone', hue='retained_user', data=ult)\n",
    "plt.show()"
   ]
  },
  {
   "cell_type": "markdown",
   "metadata": {},
   "source": [
    "Around 50% of ultimate black users are retained and only around 25% of non-black_users are retained. Being an ultimate black user increases the likelihood of retaining."
   ]
  },
  {
   "cell_type": "markdown",
   "metadata": {},
   "source": [
    "**Numeric Features and how they are related to retained_user**\n"
   ]
  },
  {
   "cell_type": "code",
   "execution_count": null,
   "metadata": {},
   "outputs": [],
   "source": [
    "we examine how the retained % (retainer/total customers) at each level of numeric variable."
   ]
  },
  {
   "cell_type": "code",
   "execution_count": 22,
   "metadata": {},
   "outputs": [],
   "source": [
    "#Writing a function for it.\n",
    "def numvarplot(x,y):\n",
    "    df_trips = ult.groupby(x).agg({y: ['sum', 'count']})\n",
    "    # multiple levaes of columns were created, so first level was dropped\n",
    "    df_trips.columns = df_trips.columns.droplevel()\n",
    "\n",
    "    #calculating %retained\n",
    "    perc_ret = (df_trips['sum']/df_trips['count'])*100\n",
    "\n",
    "    # assigning trips as a column.\n",
    "    df_trips['% retained'] = perc_ret\n",
    "\n",
    "    df_trips.columns\n",
    "\n",
    "    plt.figure(figsize=(18,8))\n",
    "    sns.barplot(y='% retained', x=df_trips.index, data=df_trips)\n",
    "    plt.show()"
   ]
  },
  {
   "cell_type": "code",
   "execution_count": 23,
   "metadata": {},
   "outputs": [
    {
     "data": {
      "image/png": "[encoded data removed]",
      "text/plain": [
       "<Figure size 1296x576 with 1 Axes>"
      ]
     },
     "metadata": {
      "needs_background": "light"
     },
     "output_type": "display_data"
    }
   ],
   "source": [
    "numvarplot('trips_in_first_30_days','retained_user')"
   ]
  },
  {
   "cell_type": "code",
   "execution_count": 88,
   "metadata": {},
   "outputs": [
    {
     "data": {
      "image/png": "[encoded data removed]",
      "text/plain": [
       "<Figure size 1296x576 with 1 Axes>"
      ]
     },
     "metadata": {
      "needs_background": "light"
     },
     "output_type": "display_data"
    }
   ],
   "source": [
    "numvarplot('avg_surge','retained_user')"
   ]
  },
  {
   "cell_type": "code",
   "execution_count": 89,
   "metadata": {},
   "outputs": [
    {
     "data": {
      "image/png": "[encoded data removed]",
      "text/plain": [
       "<Figure size 1296x576 with 1 Axes>"
      ]
     },
     "metadata": {
      "needs_background": "light"
     },
     "output_type": "display_data"
    }
   ],
   "source": [
    "numvarplot('surge_pct','retained_user')"
   ]
  },
  {
   "cell_type": "code",
   "execution_count": 90,
   "metadata": {},
   "outputs": [
    {
     "data": {
      "image/png": "[encoded data removed]",
      "text/plain": [
       "<Figure size 1296x576 with 1 Axes>"
      ]
     },
     "metadata": {
      "needs_background": "light"
     },
     "output_type": "display_data"
    }
   ],
   "source": [
    "numvarplot('weekday_pct','retained_user')"
   ]
  },
  {
   "cell_type": "code",
   "execution_count": 92,
   "metadata": {},
   "outputs": [
    {
     "data": {
      "image/png": "[encoded data removed]",
      "text/plain": [
       "<Figure size 1296x576 with 1 Axes>"
      ]
     },
     "metadata": {
      "needs_background": "light"
     },
     "output_type": "display_data"
    }
   ],
   "source": [
    "numvarplot('avg_rating_by_driver','retained_user')"
   ]
  },
  {
   "cell_type": "markdown",
   "metadata": {},
   "source": [
    "Of the numeric variables, retained % increases only with trips_in_first_30_days, avg_rating_by_driver. With avg_surge the retained % decreases to some extent."
   ]
  },
  {
   "cell_type": "code",
   "execution_count": 24,
   "metadata": {},
   "outputs": [
    {
     "data": {
      "text/plain": [
       "Winterfell      23336\n",
       "Astapor         16534\n",
       "King_Landing    10130\n",
       "Name: city, dtype: int64"
      ]
     },
     "execution_count": 24,
     "metadata": {},
     "output_type": "execute_result"
    }
   ],
   "source": [
    "# renaming one of the attribute in city\n",
    "ult['city'] = ult['city'].str.replace(\"King's Landing\", \"King_Landing\")\n",
    "ult['city'].value_counts()"
   ]
  },
  {
   "cell_type": "code",
   "execution_count": 50,
   "metadata": {},
   "outputs": [
    {
     "name": "stdout",
     "output_type": "stream",
     "text": [
      "<class 'pandas.core.frame.DataFrame'>\n",
      "RangeIndex: 50000 entries, 0 to 49999\n",
      "Data columns (total 19 columns):\n",
      " #   Column                     Non-Null Count  Dtype         \n",
      "---  ------                     --------------  -----         \n",
      " 0   trips_in_first_30_days     50000 non-null  int64         \n",
      " 1   signup_date                50000 non-null  datetime64[ns]\n",
      " 2   avg_rating_of_driver       50000 non-null  float64       \n",
      " 3   avg_surge                  50000 non-null  float64       \n",
      " 4   last_trip_date             50000 non-null  datetime64[ns]\n",
      " 5   surge_pct                  50000 non-null  float64       \n",
      " 6   weekday_pct                50000 non-null  float64       \n",
      " 7   avg_dist                   50000 non-null  float64       \n",
      " 8   avg_rating_by_driver       50000 non-null  float64       \n",
      " 9   ret_users                  50000 non-null  int64         \n",
      " 10  last_trip_month            50000 non-null  int64         \n",
      " 11  retained_user              50000 non-null  float64       \n",
      " 12  city_Astapor               50000 non-null  uint8         \n",
      " 13  city_King_Landing          50000 non-null  uint8         \n",
      " 14  city_Winterfell            50000 non-null  uint8         \n",
      " 15  ultimate_black_user_False  50000 non-null  uint8         \n",
      " 16  ultimate_black_user_True   50000 non-null  uint8         \n",
      " 17  phone_Android              50000 non-null  uint8         \n",
      " 18  phone_iPhone               50000 non-null  uint8         \n",
      "dtypes: datetime64[ns](2), float64(7), int64(3), uint8(7)\n",
      "memory usage: 4.9 MB\n"
     ]
    }
   ],
   "source": [
    "#Creating dummies for city and ultimate black users\n",
    "ult1 = pd.get_dummies(ult, columns=['city', 'ultimate_black_user', 'phone'])\n",
    "ult1.info()"
   ]
  },
  {
   "cell_type": "code",
   "execution_count": 51,
   "metadata": {},
   "outputs": [],
   "source": [
    "ult1['city_King_Landing']=ult1['city_King_Landing'].astype(int)                  \n",
    "           \n",
    "ult1['city_Winterfell']=ult1['city_Winterfell'] .astype(int)             \n",
    "        \n",
    "ult1['ultimate_black_user_True']=ult1['ultimate_black_user_True'].astype(int)      \n",
    "             \n",
    "ult1['phone_iPhone']=ult1['phone_iPhone'].astype(int)      \n",
    "ult1['retained_user']=ult1['retained_user'].astype(int)  "
   ]
  },
  {
   "cell_type": "markdown",
   "metadata": {},
   "source": [
    "**Preprocessing Steps**"
   ]
  },
  {
   "cell_type": "code",
   "execution_count": 52,
   "metadata": {},
   "outputs": [],
   "source": [
    "ult1 = ult1.drop(columns = ['last_trip_date', 'last_trip_month','ret_users','signup_date','city_Astapor', 'ultimate_black_user_False', 'phone_Android'], axis=1)"
   ]
  },
  {
   "cell_type": "code",
   "execution_count": 53,
   "metadata": {},
   "outputs": [],
   "source": [
    "X = ult1.drop(columns= 'retained_user', axis=1)\n",
    "y = ult1['retained_user']\n",
    "\n",
    "X_train, X_test, y_train, y_test = train_test_split(X, y, test_size=0.25, random_state=19)"
   ]
  },
  {
   "cell_type": "code",
   "execution_count": 54,
   "metadata": {},
   "outputs": [
    {
     "data": {
      "text/html": [
       "<div>\n",
       "<style scoped>\n",
       "    .dataframe tbody tr th:only-of-type {\n",
       "        vertical-align: middle;\n",
       "    }\n",
       "\n",
       "    .dataframe tbody tr th {\n",
       "        vertical-align: top;\n",
       "    }\n",
       "\n",
       "    .dataframe thead th {\n",
       "        text-align: right;\n",
       "    }\n",
       "</style>\n",
       "<table border=\"1\" class=\"dataframe\">\n",
       "  <thead>\n",
       "    <tr style=\"text-align: right;\">\n",
       "      <th></th>\n",
       "      <th>trips_in_first_30_days</th>\n",
       "      <th>avg_rating_of_driver</th>\n",
       "      <th>avg_surge</th>\n",
       "      <th>surge_pct</th>\n",
       "      <th>weekday_pct</th>\n",
       "      <th>avg_dist</th>\n",
       "      <th>avg_rating_by_driver</th>\n",
       "      <th>city_King_Landing</th>\n",
       "      <th>city_Winterfell</th>\n",
       "      <th>ultimate_black_user_True</th>\n",
       "      <th>phone_iPhone</th>\n",
       "    </tr>\n",
       "  </thead>\n",
       "  <tbody>\n",
       "    <tr>\n",
       "      <th>42600</th>\n",
       "      <td>0</td>\n",
       "      <td>5.0</td>\n",
       "      <td>1.0</td>\n",
       "      <td>0.0</td>\n",
       "      <td>80.0</td>\n",
       "      <td>10.48</td>\n",
       "      <td>4.6</td>\n",
       "      <td>0</td>\n",
       "      <td>0</td>\n",
       "      <td>1</td>\n",
       "      <td>1</td>\n",
       "    </tr>\n",
       "    <tr>\n",
       "      <th>36209</th>\n",
       "      <td>0</td>\n",
       "      <td>5.0</td>\n",
       "      <td>1.0</td>\n",
       "      <td>0.0</td>\n",
       "      <td>100.0</td>\n",
       "      <td>15.54</td>\n",
       "      <td>5.0</td>\n",
       "      <td>0</td>\n",
       "      <td>1</td>\n",
       "      <td>0</td>\n",
       "      <td>0</td>\n",
       "    </tr>\n",
       "    <tr>\n",
       "      <th>24117</th>\n",
       "      <td>1</td>\n",
       "      <td>5.0</td>\n",
       "      <td>1.0</td>\n",
       "      <td>0.0</td>\n",
       "      <td>100.0</td>\n",
       "      <td>1.05</td>\n",
       "      <td>5.0</td>\n",
       "      <td>0</td>\n",
       "      <td>0</td>\n",
       "      <td>0</td>\n",
       "      <td>1</td>\n",
       "    </tr>\n",
       "    <tr>\n",
       "      <th>31683</th>\n",
       "      <td>0</td>\n",
       "      <td>5.0</td>\n",
       "      <td>1.0</td>\n",
       "      <td>0.0</td>\n",
       "      <td>100.0</td>\n",
       "      <td>8.97</td>\n",
       "      <td>3.0</td>\n",
       "      <td>0</td>\n",
       "      <td>0</td>\n",
       "      <td>0</td>\n",
       "      <td>1</td>\n",
       "    </tr>\n",
       "    <tr>\n",
       "      <th>23298</th>\n",
       "      <td>3</td>\n",
       "      <td>5.0</td>\n",
       "      <td>1.0</td>\n",
       "      <td>0.0</td>\n",
       "      <td>100.0</td>\n",
       "      <td>6.52</td>\n",
       "      <td>5.0</td>\n",
       "      <td>0</td>\n",
       "      <td>0</td>\n",
       "      <td>0</td>\n",
       "      <td>0</td>\n",
       "    </tr>\n",
       "  </tbody>\n",
       "</table>\n",
       "</div>"
      ],
      "text/plain": [
       "       trips_in_first_30_days  avg_rating_of_driver  avg_surge  surge_pct  \\\n",
       "42600                       0                   5.0        1.0        0.0   \n",
       "36209                       0                   5.0        1.0        0.0   \n",
       "24117                       1                   5.0        1.0        0.0   \n",
       "31683                       0                   5.0        1.0        0.0   \n",
       "23298                       3                   5.0        1.0        0.0   \n",
       "\n",
       "       weekday_pct  avg_dist  avg_rating_by_driver  city_King_Landing  \\\n",
       "42600         80.0     10.48                   4.6                  0   \n",
       "36209        100.0     15.54                   5.0                  0   \n",
       "24117        100.0      1.05                   5.0                  0   \n",
       "31683        100.0      8.97                   3.0                  0   \n",
       "23298        100.0      6.52                   5.0                  0   \n",
       "\n",
       "       city_Winterfell  ultimate_black_user_True  phone_iPhone  \n",
       "42600                0                         1             1  \n",
       "36209                1                         0             0  \n",
       "24117                0                         0             1  \n",
       "31683                0                         0             1  \n",
       "23298                0                         0             0  "
      ]
     },
     "execution_count": 54,
     "metadata": {},
     "output_type": "execute_result"
    }
   ],
   "source": [
    "X_train.head()"
   ]
  },
  {
   "cell_type": "code",
   "execution_count": 55,
   "metadata": {},
   "outputs": [
    {
     "name": "stderr",
     "output_type": "stream",
     "text": [
      "C:\\Users\\tnsub\\anaconda3\\lib\\site-packages\\pandas\\core\\indexing.py:1736: SettingWithCopyWarning: \n",
      "A value is trying to be set on a copy of a slice from a DataFrame.\n",
      "Try using .loc[row_indexer,col_indexer] = value instead\n",
      "\n",
      "See the caveats in the documentation: https://pandas.pydata.org/pandas-docs/stable/user_guide/indexing.html#returning-a-view-versus-a-copy\n",
      "  isetter(loc, value[:, i].tolist())\n",
      "C:\\Users\\tnsub\\anaconda3\\lib\\site-packages\\pandas\\core\\indexing.py:1736: SettingWithCopyWarning: \n",
      "A value is trying to be set on a copy of a slice from a DataFrame.\n",
      "Try using .loc[row_indexer,col_indexer] = value instead\n",
      "\n",
      "See the caveats in the documentation: https://pandas.pydata.org/pandas-docs/stable/user_guide/indexing.html#returning-a-view-versus-a-copy\n",
      "  isetter(loc, value[:, i].tolist())\n"
     ]
    },
    {
     "data": {
      "text/html": [
       "<div>\n",
       "<style scoped>\n",
       "    .dataframe tbody tr th:only-of-type {\n",
       "        vertical-align: middle;\n",
       "    }\n",
       "\n",
       "    .dataframe tbody tr th {\n",
       "        vertical-align: top;\n",
       "    }\n",
       "\n",
       "    .dataframe thead th {\n",
       "        text-align: right;\n",
       "    }\n",
       "</style>\n",
       "<table border=\"1\" class=\"dataframe\">\n",
       "  <thead>\n",
       "    <tr style=\"text-align: right;\">\n",
       "      <th></th>\n",
       "      <th>trips_in_first_30_days</th>\n",
       "      <th>avg_rating_of_driver</th>\n",
       "      <th>avg_surge</th>\n",
       "      <th>surge_pct</th>\n",
       "      <th>weekday_pct</th>\n",
       "      <th>avg_dist</th>\n",
       "      <th>avg_rating_by_driver</th>\n",
       "      <th>city_King_Landing</th>\n",
       "      <th>city_Winterfell</th>\n",
       "      <th>ultimate_black_user_True</th>\n",
       "      <th>phone_iPhone</th>\n",
       "    </tr>\n",
       "  </thead>\n",
       "  <tbody>\n",
       "    <tr>\n",
       "      <th>49715</th>\n",
       "      <td>-0.336787</td>\n",
       "      <td>0.433813</td>\n",
       "      <td>-0.334274</td>\n",
       "      <td>-0.442379</td>\n",
       "      <td>-1.636999</td>\n",
       "      <td>2.668197</td>\n",
       "      <td>0.493992</td>\n",
       "      <td>0</td>\n",
       "      <td>1</td>\n",
       "      <td>1</td>\n",
       "      <td>1</td>\n",
       "    </tr>\n",
       "    <tr>\n",
       "      <th>12010</th>\n",
       "      <td>1.260604</td>\n",
       "      <td>-0.611050</td>\n",
       "      <td>-0.334274</td>\n",
       "      <td>-0.442379</td>\n",
       "      <td>-0.099379</td>\n",
       "      <td>-0.243403</td>\n",
       "      <td>-0.178956</td>\n",
       "      <td>0</td>\n",
       "      <td>1</td>\n",
       "      <td>0</td>\n",
       "      <td>1</td>\n",
       "    </tr>\n",
       "    <tr>\n",
       "      <th>19469</th>\n",
       "      <td>-0.603018</td>\n",
       "      <td>0.433813</td>\n",
       "      <td>-0.334274</td>\n",
       "      <td>-0.442379</td>\n",
       "      <td>-1.636999</td>\n",
       "      <td>-0.243403</td>\n",
       "      <td>-1.749170</td>\n",
       "      <td>0</td>\n",
       "      <td>1</td>\n",
       "      <td>0</td>\n",
       "      <td>1</td>\n",
       "    </tr>\n",
       "    <tr>\n",
       "      <th>6261</th>\n",
       "      <td>-0.603018</td>\n",
       "      <td>0.607957</td>\n",
       "      <td>-0.334274</td>\n",
       "      <td>-0.442379</td>\n",
       "      <td>-0.290572</td>\n",
       "      <td>0.527468</td>\n",
       "      <td>0.493992</td>\n",
       "      <td>1</td>\n",
       "      <td>0</td>\n",
       "      <td>0</td>\n",
       "      <td>1</td>\n",
       "    </tr>\n",
       "    <tr>\n",
       "      <th>5857</th>\n",
       "      <td>-0.070555</td>\n",
       "      <td>-0.959338</td>\n",
       "      <td>0.157832</td>\n",
       "      <td>0.278550</td>\n",
       "      <td>-0.481764</td>\n",
       "      <td>0.190646</td>\n",
       "      <td>-0.178956</td>\n",
       "      <td>0</td>\n",
       "      <td>0</td>\n",
       "      <td>0</td>\n",
       "      <td>1</td>\n",
       "    </tr>\n",
       "  </tbody>\n",
       "</table>\n",
       "</div>"
      ],
      "text/plain": [
       "       trips_in_first_30_days  avg_rating_of_driver  avg_surge  surge_pct  \\\n",
       "49715               -0.336787              0.433813  -0.334274  -0.442379   \n",
       "12010                1.260604             -0.611050  -0.334274  -0.442379   \n",
       "19469               -0.603018              0.433813  -0.334274  -0.442379   \n",
       "6261                -0.603018              0.607957  -0.334274  -0.442379   \n",
       "5857                -0.070555             -0.959338   0.157832   0.278550   \n",
       "\n",
       "       weekday_pct  avg_dist  avg_rating_by_driver  city_King_Landing  \\\n",
       "49715    -1.636999  2.668197              0.493992                  0   \n",
       "12010    -0.099379 -0.243403             -0.178956                  0   \n",
       "19469    -1.636999 -0.243403             -1.749170                  0   \n",
       "6261     -0.290572  0.527468              0.493992                  1   \n",
       "5857     -0.481764  0.190646             -0.178956                  0   \n",
       "\n",
       "       city_Winterfell  ultimate_black_user_True  phone_iPhone  \n",
       "49715                1                         1             1  \n",
       "12010                1                         0             1  \n",
       "19469                1                         0             1  \n",
       "6261                 0                         0             1  \n",
       "5857                 0                         0             1  "
      ]
     },
     "execution_count": 55,
     "metadata": {},
     "output_type": "execute_result"
    }
   ],
   "source": [
    "#Standardizing numeric features\n",
    "\n",
    "#numeric features are in the index range 0 through 7\n",
    "\n",
    "from sklearn.preprocessing import StandardScaler\n",
    "scaler = StandardScaler()\n",
    "X_train.iloc[:, 0:7] = scaler.fit_transform(X_train.iloc[:, 0:7])\n",
    "X_test.iloc[:, 0:7] = scaler.transform(X_test.iloc[:, 0:7])\n",
    "\n",
    "X_train.head()\n",
    "\n",
    "X_test.head()"
   ]
  },
  {
   "cell_type": "code",
   "execution_count": 56,
   "metadata": {},
   "outputs": [
    {
     "name": "stdout",
     "output_type": "stream",
     "text": [
      "Logistic regression_train_accuracy is 0.719\n",
      "Logistic regression_test_accuracy is 0.719\n",
      "Logistic regression_train_auc is 0.761\n",
      "Logistic regression_test_auc is 0.760\n"
     ]
    }
   ],
   "source": [
    "lr = LogisticRegression()\n",
    "lr.fit(X_train,y_train)\n",
    "y_pred = lr.predict(X_test)\n",
    "y_pred_prob = lr.predict_proba(X_train)[:,1]\n",
    "y_pred_prob1 = lr.predict_proba(X_test)[:,1]\n",
    "fpr, tpr, thresholds = roc_curve(y_train, y_pred_prob)\n",
    "fpr1, tpr1, thresholds1 = roc_curve(y_test, y_pred_prob1)\n",
    "\n",
    "print('Logistic regression_train_accuracy is {0:.3f}'.format(accuracy_score(lr.predict(X_train), y_train)))\n",
    "print('Logistic regression_test_accuracy is {0:.3f}'.format(accuracy_score(lr.predict(X_test), y_test)))\n",
    "print('Logistic regression_train_auc is {0:.3f}'.format(auc(fpr, tpr)))\n",
    "print('Logistic regression_test_auc is {0:.3f}'.format(auc(fpr1, tpr1)))"
   ]
  },
  {
   "cell_type": "code",
   "execution_count": 57,
   "metadata": {},
   "outputs": [
    {
     "name": "stdout",
     "output_type": "stream",
     "text": [
      "XGBoost train accuracy is 0.782\n",
      "XGBoost test accuracy is 0.778\n",
      "XGBoost train auc is 0.848\n",
      "XGBoost test auc is 0.840\n"
     ]
    }
   ],
   "source": [
    "from xgboost import XGBClassifier\n",
    "\n",
    "model = XGBClassifier(use_label_encoder=False, random_state=1, learning_rate=0.01, eval_metric='mlogloss')\n",
    "model.fit(X_train, y_train)\n",
    "\n",
    "y_pred_proba = model.predict_proba(X_train)[:,1]\n",
    "y_pred_proba1 = model.predict_proba(X_test)[:,1]\n",
    "fpr, tpr, thresholds = roc_curve(y_train, y_pred_proba)\n",
    "fpr1, tpr1, thresholds1 = roc_curve(y_test, y_pred_proba1)\n",
    "\n",
    "print('XGBoost train accuracy is {0:.3f}'.format(accuracy_score(model.predict(X_train), y_train)))\n",
    "print('XGBoost test accuracy is {0:.3f}'.format(accuracy_score(model.predict(X_test), y_test)))\n",
    "print('XGBoost train auc is {0:.3f}'.format(auc(fpr, tpr)))\n",
    "print('XGBoost test auc is {0:.3f}'.format(auc(fpr1, tpr1)))"
   ]
  },
  {
   "cell_type": "code",
   "execution_count": 58,
   "metadata": {},
   "outputs": [
    {
     "name": "stdout",
     "output_type": "stream",
     "text": [
      "[[6618 1205]\n",
      " [1574 3103]]\n",
      "              precision    recall  f1-score   support\n",
      "\n",
      "           0       0.81      0.85      0.83      7823\n",
      "           1       0.72      0.66      0.69      4677\n",
      "\n",
      "    accuracy                           0.78     12500\n",
      "   macro avg       0.76      0.75      0.76     12500\n",
      "weighted avg       0.78      0.78      0.78     12500\n",
      "\n"
     ]
    }
   ],
   "source": [
    "y_pred = model.predict(X_test)\n",
    "\n",
    "print(confusion_matrix(y_test, y_pred))\n",
    "print(classification_report(y_test, y_pred))"
   ]
  },
  {
   "cell_type": "code",
   "execution_count": 59,
   "metadata": {},
   "outputs": [
    {
     "data": {
      "text/plain": [
       "{'colsample_bytree': 0.75,\n",
       " 'learning_rate': 0.1,\n",
       " 'max_depth': 5,\n",
       " 'min_child_weight': 2,\n",
       " 'n_estimators': 100,\n",
       " 'subsample': 0.8}"
      ]
     },
     "execution_count": 59,
     "metadata": {},
     "output_type": "execute_result"
    }
   ],
   "source": [
    "max_depth = [3,4,5]\n",
    "learning_rate = [0.01, 0.05, 0.10]\n",
    "subsample = [0.8]\n",
    "colsample_bytree = [0.5,0.75]\n",
    "n_estimators = [100]\n",
    "min_child_weight = [1,2]\n",
    "param_grid = {\n",
    "    \"max_depth\": max_depth,\n",
    "    \"learning_rate\": learning_rate,\n",
    "    \"subsample\": subsample,\n",
    "    \"colsample_bytree\": colsample_bytree,\n",
    "    \"n_estimators\": n_estimators,\n",
    "    \"min_child_weight\" : min_child_weight\n",
    "}\n",
    "\n",
    "xgb_cl = XGBClassifier(use_label_encoder=False, random_state=1, eval_metric='mlogloss')\n",
    "\n",
    "# Init Grid Search\n",
    "grid_cv = GridSearchCV(xgb_cl, param_grid, n_jobs=-1, cv=10, scoring=\"accuracy\")\n",
    "\n",
    "# Fit\n",
    "grid_cv.fit(X_train, y_train)\n",
    "grid_cv.best_params_"
   ]
  },
  {
   "cell_type": "code",
   "execution_count": 60,
   "metadata": {},
   "outputs": [],
   "source": [
    "y_pred_proba = grid_cv.predict_proba(X_train)[:,1]\n",
    "y_pred_proba1 = grid_cv.predict_proba(X_test)[:,1]\n",
    "fpr, tpr, thresholds = roc_curve(y_train, y_pred_proba)\n",
    "fpr_xgb, tpr_xgb, thresholds1 = roc_curve(y_test, y_pred_proba1)\n",
    "precision_xgb, recall_xgb, thresholds = precision_recall_curve(y_test, y_pred_proba1)"
   ]
  },
  {
   "cell_type": "code",
   "execution_count": 61,
   "metadata": {},
   "outputs": [
    {
     "name": "stdout",
     "output_type": "stream",
     "text": [
      "XGBoost gridsearcv train accuracy is 0.801\n",
      "XGBoost gridsearcv test accuracy is 0.790\n",
      "XGBoost gridsearcv train auc is 0.873\n",
      "XGBoost gridsearcv test auc is 0.857\n"
     ]
    }
   ],
   "source": [
    "print('XGBoost gridsearcv train accuracy is {0:.3f}'.format(accuracy_score(grid_cv.predict(X_train), y_train)))\n",
    "print('XGBoost gridsearcv test accuracy is {0:.3f}'.format(accuracy_score(grid_cv.predict(X_test), y_test)))\n",
    "print('XGBoost gridsearcv train auc is {0:.3f}'.format(auc(fpr, tpr)))\n",
    "print('XGBoost gridsearcv test auc is {0:.3f}'.format(auc(fpr_xgb, tpr_xgb)))"
   ]
  },
  {
   "cell_type": "code",
   "execution_count": 62,
   "metadata": {},
   "outputs": [
    {
     "name": "stdout",
     "output_type": "stream",
     "text": [
      "[[6772 1051]\n",
      " [1569 3108]]\n",
      "              precision    recall  f1-score   support\n",
      "\n",
      "           0       0.81      0.87      0.84      7823\n",
      "           1       0.75      0.66      0.70      4677\n",
      "\n",
      "    accuracy                           0.79     12500\n",
      "   macro avg       0.78      0.77      0.77     12500\n",
      "weighted avg       0.79      0.79      0.79     12500\n",
      "\n"
     ]
    }
   ],
   "source": [
    "print(confusion_matrix(y_test, grid_cv.predict(X_test)))\n",
    "print(classification_report(y_test, grid_cv.predict(X_test)))"
   ]
  },
  {
   "cell_type": "code",
   "execution_count": 64,
   "metadata": {},
   "outputs": [],
   "source": [
    "# Using tuned parameters finally with the XG Boost model to get feature importances\n",
    "xgb_t = XGBClassifier(use_label_encoder=False, colsample_bytree = 0.75, learning_rate = 0.1, max_depth = 5, \n",
    "                      min_child_weight = 2, n_estimators = 100, subsample = 0.8, random_state=1, eval_metric='mlogloss')\n",
    "xgb_t_fit = xgb_t.fit(X_train, y_train)"
   ]
  },
  {
   "cell_type": "code",
   "execution_count": 65,
   "metadata": {},
   "outputs": [
    {
     "data": {
      "text/plain": [
       "array([0.03964522, 0.02624048, 0.02654076, 0.10293648, 0.07599992,\n",
       "       0.01628549, 0.2423975 , 0.19537203, 0.03200989, 0.07873995,\n",
       "       0.1638322 ], dtype=float32)"
      ]
     },
     "execution_count": 65,
     "metadata": {},
     "output_type": "execute_result"
    }
   ],
   "source": [
    "xgb_t.feature_importances_"
   ]
  },
  {
   "cell_type": "code",
   "execution_count": 66,
   "metadata": {},
   "outputs": [
    {
     "data": {
      "text/html": [
       "<div>\n",
       "<style scoped>\n",
       "    .dataframe tbody tr th:only-of-type {\n",
       "        vertical-align: middle;\n",
       "    }\n",
       "\n",
       "    .dataframe tbody tr th {\n",
       "        vertical-align: top;\n",
       "    }\n",
       "\n",
       "    .dataframe thead th {\n",
       "        text-align: right;\n",
       "    }\n",
       "</style>\n",
       "<table border=\"1\" class=\"dataframe\">\n",
       "  <thead>\n",
       "    <tr style=\"text-align: right;\">\n",
       "      <th></th>\n",
       "      <th>features</th>\n",
       "      <th>Imps</th>\n",
       "    </tr>\n",
       "  </thead>\n",
       "  <tbody>\n",
       "    <tr>\n",
       "      <th>6</th>\n",
       "      <td>avg_rating_by_driver</td>\n",
       "      <td>0.242398</td>\n",
       "    </tr>\n",
       "    <tr>\n",
       "      <th>7</th>\n",
       "      <td>city_King_Landing</td>\n",
       "      <td>0.195372</td>\n",
       "    </tr>\n",
       "    <tr>\n",
       "      <th>10</th>\n",
       "      <td>phone_iPhone</td>\n",
       "      <td>0.163832</td>\n",
       "    </tr>\n",
       "    <tr>\n",
       "      <th>3</th>\n",
       "      <td>surge_pct</td>\n",
       "      <td>0.102936</td>\n",
       "    </tr>\n",
       "    <tr>\n",
       "      <th>9</th>\n",
       "      <td>ultimate_black_user_True</td>\n",
       "      <td>0.078740</td>\n",
       "    </tr>\n",
       "    <tr>\n",
       "      <th>4</th>\n",
       "      <td>weekday_pct</td>\n",
       "      <td>0.076000</td>\n",
       "    </tr>\n",
       "    <tr>\n",
       "      <th>0</th>\n",
       "      <td>trips_in_first_30_days</td>\n",
       "      <td>0.039645</td>\n",
       "    </tr>\n",
       "    <tr>\n",
       "      <th>8</th>\n",
       "      <td>city_Winterfell</td>\n",
       "      <td>0.032010</td>\n",
       "    </tr>\n",
       "    <tr>\n",
       "      <th>2</th>\n",
       "      <td>avg_surge</td>\n",
       "      <td>0.026541</td>\n",
       "    </tr>\n",
       "    <tr>\n",
       "      <th>1</th>\n",
       "      <td>avg_rating_of_driver</td>\n",
       "      <td>0.026240</td>\n",
       "    </tr>\n",
       "    <tr>\n",
       "      <th>5</th>\n",
       "      <td>avg_dist</td>\n",
       "      <td>0.016285</td>\n",
       "    </tr>\n",
       "  </tbody>\n",
       "</table>\n",
       "</div>"
      ],
      "text/plain": [
       "                    features      Imps\n",
       "6       avg_rating_by_driver  0.242398\n",
       "7          city_King_Landing  0.195372\n",
       "10              phone_iPhone  0.163832\n",
       "3                  surge_pct  0.102936\n",
       "9   ultimate_black_user_True  0.078740\n",
       "4                weekday_pct  0.076000\n",
       "0     trips_in_first_30_days  0.039645\n",
       "8            city_Winterfell  0.032010\n",
       "2                  avg_surge  0.026541\n",
       "1       avg_rating_of_driver  0.026240\n",
       "5                   avg_dist  0.016285"
      ]
     },
     "execution_count": 66,
     "metadata": {},
     "output_type": "execute_result"
    }
   ],
   "source": [
    "#Getting Feature importances\n",
    "F_imps = pd.concat([pd.DataFrame(X_test.columns,columns=['features']),pd.DataFrame(np.transpose(xgb_t.feature_importances_), columns=['Imps'])], axis = 1)\n",
    "# Coefficients' values sorted in descending order by their absolute values.\n",
    "F_imps.reindex(F_imps.Imps.abs().sort_values(ascending=False).index).head(20)"
   ]
  },
  {
   "cell_type": "markdown",
   "metadata": {},
   "source": [
    "**Summary and Conculsion:**\n",
    "    "
   ]
  },
  {
   "cell_type": "markdown",
   "metadata": {},
   "source": [
    "In this study, different models were used to predict retained users; logistic regression, XG Boost and XG Boost with parameter tuning. The latter performed better with a test accuracy of 0.79 and AUC of 0.856. Some of the important features that helped in determining retained users were avg_rating_by_driver, city_King_Landing, phone_iPhone, surge_pct, and ultimate_black_user_True. \t\n",
    "model helped predict 3081 retained users correctly out of 4677 (recall of 0.66). Also the model helped identifying 87% of users who quit before 6 months. \n",
    "\n",
    "3 important things need to considered in terms of retaining users for more than 6 months:\n",
    "    1.rider's rating about their trips matters alot, while it's important to maintain a higher rating from riders, it's better \n",
    "      to do a qualitative study from dissatisfied customers about why they don't stay longer.\n",
    "      their issues with the rides, and the reason for their low rating\n",
    "    2. It seems like customers from King's Landing, stay longer than from other cities, need to investigate why others do not \n",
    "      stay longer.\n",
    "    3.Also customers with iPhone stay longer, which implies that Andriod customers quit easily. There could be reasons like the \n",
    "      'ride app' may not be working properly in customers' with Andriod. This needs to be considered too."
   ]
  },
  {
   "cell_type": "code",
   "execution_count": null,
   "metadata": {},
   "outputs": [],
   "source": []
  }
 ],
 "metadata": {
  "kernelspec": {
   "display_name": "Python 3",
   "language": "python",
   "name": "python3"
  },
  "language_info": {
   "codemirror_mode": {
    "name": "ipython",
    "version": 3
   },
   "file_extension": ".py",
   "mimetype": "text/x-python",
   "name": "python",
   "nbconvert_exporter": "python",
   "pygments_lexer": "ipython3",
   "version": "3.8.5"
  }
 },
 "nbformat": 4,
 "nbformat_minor": 4
}
